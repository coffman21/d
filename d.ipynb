{
 "cells": [
  {
   "cell_type": "code",
   "execution_count": 68,
   "metadata": {
    "collapsed": false
   },
   "outputs": [],
   "source": [
    "import pandas as pd\n",
    "import numpy as np\n",
    "import matplotlib.pyplot as plt\n",
    "from sklearn.ensemble import RandomForestRegressor\n",
    "\n",
    "data = pd.read_csv(\"Data.csv\")"
   ]
  },
  {
   "cell_type": "code",
   "execution_count": 39,
   "metadata": {
    "collapsed": false
   },
   "outputs": [],
   "source": [
    "data = data.drop(['Stroke(AIS,TIA,AHS)'], axis=1)"
   ]
  },
  {
   "cell_type": "code",
   "execution_count": 57,
   "metadata": {
    "collapsed": false
   },
   "outputs": [],
   "source": [
    "X_train = data.dropna().ix[:, data.columns != 'DisNeuro01']\n",
    "Y_train = data.dropna().ix[:, data.columns == 'DisNeuro01']\n",
    "\n",
    "X_test = data.dropna().ix[55:, data.columns != 'DisNeuro01']\n",
    "Y_test = data.dropna().ix[55:, data.columns == 'DisNeuro01']"
   ]
  },
  {
   "cell_type": "code",
   "execution_count": 71,
   "metadata": {
    "collapsed": false
   },
   "outputs": [
    {
     "name": "stdout",
     "output_type": "stream",
     "text": [
      "1. feature 1 (0.099607)\n",
      "2. feature 11 (0.077357)\n",
      "3. feature 9 (0.073330)\n",
      "4. feature 17 (0.071140)\n",
      "5. feature 7 (0.068179)\n",
      "6. feature 19 (0.062750)\n",
      "7. feature 2 (0.058454)\n",
      "8. feature 20 (0.054631)\n",
      "9. feature 10 (0.049343)\n",
      "10. feature 18 (0.048569)\n",
      "11. feature 16 (0.045839)\n",
      "12. feature 15 (0.045649)\n",
      "13. feature 12 (0.040624)\n",
      "14. feature 21 (0.034419)\n",
      "15. feature 22 (0.029855)\n",
      "16. feature 4 (0.028742)\n",
      "17. feature 6 (0.026364)\n",
      "18. feature 5 (0.020897)\n",
      "19. feature 8 (0.019844)\n",
      "20. feature 0 (0.017010)\n",
      "21. feature 14 (0.014516)\n",
      "22. feature 13 (0.012882)\n",
      "23. feature 3 (0.000000)\n"
     ]
    }
   ],
   "source": [
    "rf = RandomForestRegressor(oob_score=True)\n",
    "rf.fit(X_train, Y_train.values.ravel())\n",
    "a = rf.predict(X_test)\n",
    "\n",
    "\n",
    "importances = rf.feature_importances_\n",
    "std = np.std([tree.feature_importances_ for tree in rf.estimators_],axis=0)\n",
    "indices = np.argsort(importances)[::-1]\n",
    "\n",
    "for f in range(X_train.shape[1]):\n",
    "    print(\"%d. feature %d (%f)\" % (f + 1, indices[f], importances[indices[f]]))"
   ]
  },
  {
   "cell_type": "code",
   "execution_count": 75,
   "metadata": {
    "collapsed": false
   },
   "outputs": [
    {
     "data": {
      "image/png": "[encoded data removed]",
      "text/plain": [
       "<matplotlib.figure.Figure at 0xabfe028c>"
      ]
     },
     "metadata": {},
     "output_type": "display_data"
    }
   ],
   "source": [
    "plt.title(\"Feature importances\")\n",
    "plt.bar(range(X_train.shape[1]), importances[indices],\n",
    "       color=\"r\", yerr=std[indices], align=\"center\")\n",
    "plt.xticks(range(X_train.shape[1]), indices)\n",
    "plt.xlim([-1, X_train.shape[1]])\n",
    "plt.show()"
   ]
  }
 ],
 "metadata": {
  "kernelspec": {
   "display_name": "Python 2",
   "language": "python",
   "name": "python2"
  },
  "language_info": {
   "codemirror_mode": {
    "name": "ipython",
    "version": 2
   },
   "file_extension": ".py",
   "mimetype": "text/x-python",
   "name": "python",
   "nbconvert_exporter": "python",
   "pygments_lexer": "ipython2",
   "version": "2.7.12"
  }
 },
 "nbformat": 4,
 "nbformat_minor": 2
}
